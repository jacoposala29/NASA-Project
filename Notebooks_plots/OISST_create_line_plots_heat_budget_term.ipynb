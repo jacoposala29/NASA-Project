{
 "cells": [
  {
   "cell_type": "code",
   "execution_count": 1,
   "id": "ce9474ef",
   "metadata": {},
   "outputs": [],
   "source": [
    "import numpy as np\n",
    "import xarray as xr\n",
    "import sys\n",
    "import glob\n",
    "import netCDF4 as nc\n",
    "import os\n",
    "import sys\n",
    "import h5py\n",
    "import scipy.io\n",
    "from scipy.interpolate import griddata\n",
    "import matplotlib.pyplot as plt\n",
    "import matplotlib.colors as mcolors\n",
    "import cartopy.crs as ccrs\n",
    "import cartopy.feature as cfeature\n",
    "from datetime import datetime\n",
    "import numpy.matlib\n",
    "from matplotlib.ticker import MaxNLocator\n",
    "import copy\n",
    "import pandas as pd\n",
    "from scipy.io import savemat\n",
    "import numpy as np\n",
    "import matplotlib.pyplot as plt\n",
    "from datetime import datetime, date, timedelta\n",
    "\n",
    "from functions_ecco_NEW import dayofyear_climo_extended_NEW\n",
    "\n",
    "from os.path import join,expanduser,exists,split\n",
    "user_home_dir = expanduser('~')\n",
    "sys.path.append(join(user_home_dir,'ECCOv4-py'))\n",
    "#import ecco_v4_py as ecco\n",
    "\n",
    "# Suppress warning messages for a cleaner presentation\n",
    "import warnings\n",
    "warnings.filterwarnings('ignore')"
   ]
  },
  {
   "cell_type": "markdown",
   "id": "19b84542",
   "metadata": {},
   "source": [
    "# Inputs"
   ]
  },
  {
   "cell_type": "code",
   "execution_count": 2,
   "id": "f014ed85",
   "metadata": {},
   "outputs": [],
   "source": [
    "create_var_dict_HARDDRIVE_NEEDED = True"
   ]
  },
  {
   "cell_type": "code",
   "execution_count": 17,
   "id": "6f828a4d",
   "metadata": {},
   "outputs": [],
   "source": [
    "# Region tag for title in plots\n",
    "title_tag = 'NEP' # NEP SWP TASMAN\n",
    "\n",
    "# Define years\n",
    "years = np.arange(1992,2018) # 1992-2017\n",
    "\n",
    "if title_tag == 'SWP':\n",
    "    # Define box\n",
    "    lon_min = 189.5 #- 360\n",
    "    lon_max = lon_min + 30\n",
    "    lat_min = -45.5\n",
    "    lat_max = lat_min + 20\n",
    "    start_time_plot = '2009-01-01'\n",
    "    end_time_plot = '2013-12-31'\n",
    "    \n",
    "elif title_tag == 'TASMAN': # (147°E, 155°E) and (45°S, 37°S)\n",
    "    # Define box\n",
    "    lon_min = 147 #- 360\n",
    "    lon_max = lon_min + 8\n",
    "    lat_min = -45\n",
    "    lat_max = lat_min + 8\n",
    "    start_time_plot = '2015-01-01'\n",
    "    end_time_plot = '2016-12-31'\n",
    "\n",
    "elif title_tag == 'NEP':\n",
    "    # Define box\n",
    "    lon_min = 209.5 #- 360\n",
    "    lon_max = lon_min + 16\n",
    "    lat_min = 39.5\n",
    "    lat_max = lat_min + 11  \n",
    "    start_time_plot = '2012-01-01'\n",
    "    end_time_plot = '2016-12-31'\n"
   ]
  },
  {
   "cell_type": "code",
   "execution_count": 18,
   "id": "af048b86",
   "metadata": {},
   "outputs": [],
   "source": [
    "# Calculate area\n",
    "\n",
    "# Load one OISST file\n",
    "file_path = f'/Users/jacoposala/Desktop/oisst_daily_input_files/sst.day.mean.1992_rcon.nc'\n",
    "sst = xr.open_dataset(file_path)\n",
    "\n",
    "# Earth's radius in meters\n",
    "R = 6371e3\n",
    "\n",
    "# Calculate the area of each grid cell\n",
    "lat_rad = np.deg2rad(sst[\"lat\"])\n",
    "lon_rad = np.deg2rad(sst[\"lon\"])\n",
    "\n",
    "# Calculate the width and height of each cell in meters\n",
    "dlat = np.deg2rad(1)  # Difference in latitude in radians (1 degree)\n",
    "dlon = np.deg2rad(1)  # Difference in longitude in radians (1 degree)\n",
    "\n",
    "# Calculate the area for each latitude\n",
    "cell_area_lat = R**2 * dlat * dlon * np.cos(lat_rad)\n",
    "\n",
    "# Expand the cell_area_lat to match the grid dimensions\n",
    "cell_area = np.outer(cell_area_lat, np.ones(sst[\"lon\"].size))\n",
    "\n",
    "# Create the final DataArray with the same dimensions as SST\n",
    "cell_area_expanded = xr.DataArray(\n",
    "    cell_area,\n",
    "    dims=[\"lat\", \"lon\"],\n",
    "    coords={\n",
    "        \"lat\": sst[\"lat\"],\n",
    "        \"lon\": sst[\"lon\"]\n",
    "    },\n",
    "    name=\"area\"\n",
    ")\n",
    "\n",
    "# Convert to DataSet\n",
    "area = cell_area_expanded.to_dataset(name = 'area')\n",
    "\n",
    "# Print the resulting cell_area\n",
    "# area"
   ]
  },
  {
   "cell_type": "code",
   "execution_count": null,
   "id": "ee687ee6",
   "metadata": {},
   "outputs": [],
   "source": []
  },
  {
   "cell_type": "code",
   "execution_count": null,
   "id": "37b8e2a6",
   "metadata": {},
   "outputs": [],
   "source": []
  },
  {
   "cell_type": "code",
   "execution_count": 19,
   "id": "7aad17e2",
   "metadata": {
    "scrolled": true
   },
   "outputs": [
    {
     "name": "stdout",
     "output_type": "stream",
     "text": [
      "1992\n",
      "done: load\n",
      "done: box\n",
      "done: avg box\n",
      "done: append\n",
      "1993\n",
      "done: load\n",
      "done: box\n",
      "done: avg box\n",
      "done: append\n",
      "1994\n",
      "done: load\n",
      "done: box\n",
      "done: avg box\n",
      "done: append\n",
      "1995\n",
      "done: load\n",
      "done: box\n",
      "done: avg box\n",
      "done: append\n",
      "1996\n",
      "done: load\n",
      "done: box\n",
      "done: avg box\n",
      "done: append\n",
      "1997\n",
      "done: load\n",
      "done: box\n",
      "done: avg box\n",
      "done: append\n",
      "1998\n",
      "done: load\n",
      "done: box\n",
      "done: avg box\n",
      "done: append\n",
      "1999\n",
      "done: load\n",
      "done: box\n",
      "done: avg box\n",
      "done: append\n",
      "2000\n",
      "done: load\n",
      "done: box\n",
      "done: avg box\n",
      "done: append\n",
      "2001\n",
      "done: load\n",
      "done: box\n",
      "done: avg box\n",
      "done: append\n",
      "2002\n",
      "done: load\n",
      "done: box\n",
      "done: avg box\n",
      "done: append\n",
      "2003\n",
      "done: load\n",
      "done: box\n",
      "done: avg box\n",
      "done: append\n",
      "2004\n",
      "done: load\n",
      "done: box\n",
      "done: avg box\n",
      "done: append\n",
      "2005\n",
      "done: load\n",
      "done: box\n",
      "done: avg box\n",
      "done: append\n",
      "2006\n",
      "done: load\n",
      "done: box\n",
      "done: avg box\n",
      "done: append\n",
      "2007\n",
      "done: load\n",
      "done: box\n",
      "done: avg box\n",
      "done: append\n",
      "2008\n",
      "done: load\n",
      "done: box\n",
      "done: avg box\n",
      "done: append\n",
      "2009\n",
      "done: load\n",
      "done: box\n",
      "done: avg box\n",
      "done: append\n",
      "2010\n",
      "done: load\n",
      "done: box\n",
      "done: avg box\n",
      "done: append\n",
      "2011\n",
      "done: load\n",
      "done: box\n",
      "done: avg box\n",
      "done: append\n",
      "2012\n",
      "done: load\n",
      "done: box\n",
      "done: avg box\n",
      "done: append\n",
      "2013\n",
      "done: load\n",
      "done: box\n",
      "done: avg box\n",
      "done: append\n",
      "2014\n",
      "done: load\n",
      "done: box\n",
      "done: avg box\n",
      "done: append\n",
      "2015\n",
      "done: load\n",
      "done: box\n",
      "done: avg box\n",
      "done: append\n",
      "2016\n",
      "done: load\n",
      "done: box\n",
      "done: avg box\n",
      "done: append\n",
      "2017\n",
      "done: load\n",
      "done: box\n",
      "done: avg box\n",
      "done: append\n"
     ]
    }
   ],
   "source": [
    "var_data = []\n",
    "for year in years:\n",
    "    print(year)\n",
    "    \n",
    "    # Load OISST data\n",
    "    file_path = f'/Users/jacoposala/Desktop/oisst_daily_input_files/sst.day.mean.{year}_rcon.nc'\n",
    "    dataset = xr.open_dataset(file_path)\n",
    "    print('done: load')\n",
    "    \n",
    "    # Cut the region of interest\n",
    "    lat_bounds = np.logical_and(dataset.lat > lat_min, dataset.lat < lat_max)\n",
    "    lon_bounds = np.logical_and(dataset.lon > lon_min, dataset.lon < lon_max)\n",
    "    lat_lon_bounds = np.logical_and(lat_bounds, lon_bounds) # if box passes the dateline, we need to add on this line \"or np.logical_and(lat_bounds2, lon_bounds2)\" \n",
    "\n",
    "\n",
    "    # Filter over box\n",
    "    dataset_box = dataset['sst'].where(lat_lon_bounds, np.nan)\n",
    "    area_box = area['area'].where(lat_lon_bounds, np.nan)\n",
    "    print('done: box')\n",
    "    \n",
    "    # Weighted average\n",
    "    avg_box = (dataset_box * area_box).sum([\"lat\", \"lon\"]) / area_box.sum([\"lat\", \"lon\"])\n",
    "\n",
    "    avg_box.name = 'SST'\n",
    "    print('done: avg box')\n",
    "    var_data.append(avg_box)\n",
    "    print('done: append')\n",
    "\n",
    "# Concatenate the datasets along the time dimension\n",
    "var_dataset = xr.concat(var_data, dim='time')\n",
    "#var_dataset.name = ivar_load\n",
    "\n",
    "# Save the dataset as a NetCDF file\n",
    "output_path = f'/Users/jacoposala/Desktop/CU/3.RESEARCH/NASA_project/NEW_heatBudgetECCO/code/line_plots/OISST_1993_2017_avg_box_{title_tag}.nc'\n",
    "var_dataset.to_netcdf(output_path)\n",
    "\n"
   ]
  },
  {
   "cell_type": "code",
   "execution_count": null,
   "id": "a5c56c90",
   "metadata": {},
   "outputs": [],
   "source": []
  },
  {
   "cell_type": "code",
   "execution_count": null,
   "id": "9621feed",
   "metadata": {},
   "outputs": [],
   "source": []
  },
  {
   "cell_type": "code",
   "execution_count": null,
   "id": "e29a37cb",
   "metadata": {},
   "outputs": [],
   "source": []
  },
  {
   "cell_type": "code",
   "execution_count": null,
   "id": "6c8ef60c",
   "metadata": {},
   "outputs": [],
   "source": []
  },
  {
   "cell_type": "code",
   "execution_count": null,
   "id": "b38d39f2",
   "metadata": {},
   "outputs": [],
   "source": []
  },
  {
   "cell_type": "code",
   "execution_count": null,
   "id": "c4cce73f",
   "metadata": {},
   "outputs": [],
   "source": []
  },
  {
   "cell_type": "code",
   "execution_count": 1,
   "id": "7bbefd98",
   "metadata": {},
   "outputs": [],
   "source": [
    "import h5py"
   ]
  },
  {
   "cell_type": "code",
   "execution_count": 2,
   "id": "acf420a9",
   "metadata": {},
   "outputs": [],
   "source": [
    "file_path = '/Users/jacoposala/Downloads/ECCO_daily_region_test_DG/figures/ECCOv4r4_heat_daily_box_1992_2018_prcnt90_noTrend_minLen_5tsteps_withAVE.mat'\n",
    "\n"
   ]
  },
  {
   "cell_type": "code",
   "execution_count": 3,
   "id": "58998945",
   "metadata": {},
   "outputs": [],
   "source": [
    "mat_data = h5py.File(file_path, 'r')\n",
    "\n",
    "# List the keys in the file\n",
    "# print(\"Keys in the file:\", list(mat_data.keys()))\n",
    "\n",
    "# Access the data under the key '#refs#'\n",
    "refs_data = mat_data['#refs#']\n",
    "\n",
    "# Access the data under the key 'find_MHWs_info'\n",
    "find_mhws_info_data = mat_data['find_MHWs_info']\n"
   ]
  },
  {
   "cell_type": "code",
   "execution_count": 5,
   "id": "ed54806c",
   "metadata": {},
   "outputs": [
    {
     "data": {
      "text/plain": [
       "<KeysViewHDF5 ['G_advection_declineAve', 'G_advection_eventAve', 'G_advection_onsetAve', 'G_diffusion_declineAve', 'G_diffusion_eventAve', 'G_diffusion_onsetAve', 'G_forcing_declineAve', 'G_forcing_eventAve', 'G_forcing_onsetAve', 'G_total_declineAve', 'G_total_eventAve', 'G_total_onsetAve', 'data_mhw_tstep_msk', 'data_percentile3d', 'data_seasonal', 'data_used4MHWs', 'data_used4MHWs_declineAve', 'data_used4MHWs_eventAve', 'data_used4MHWs_onsetAve', 'delta_tstep', 'end_tstep', 'end_tstep_stored_at_peak', 'events_duration_in_tsteps', 'events_number', 'flag_remove_trend', 'onset_duration_in_tsteps', 'peak_tstep', 'peak_tstep_msk', 'peak_value', 'percentile', 'start_tstep', 'start_tstep_msk', 'years']>"
      ]
     },
     "execution_count": 5,
     "metadata": {},
     "output_type": "execute_result"
    }
   ],
   "source": [
    "find_mhws_info_data.keys()"
   ]
  },
  {
   "cell_type": "code",
   "execution_count": 45,
   "id": "e0b9dd27",
   "metadata": {},
   "outputs": [],
   "source": [
    "# start_date = date(int(find_mhws_info_data['years'].value[0][0]),1,1)\n",
    "# end_date = date(int(find_mhws_info_data['years'].value[-1][0]),12,31)\n",
    "\n",
    "start_date = date(1992,1,2)\n",
    "end_date = date(2017,12,31)"
   ]
  },
  {
   "cell_type": "code",
   "execution_count": 58,
   "id": "3ffee2c3",
   "metadata": {},
   "outputs": [],
   "source": [
    "dates = pd.date_range(start_date,end_date-timedelta(days=1),freq='d').to_pydatetime()\n"
   ]
  },
  {
   "cell_type": "code",
   "execution_count": 72,
   "id": "1162b170",
   "metadata": {},
   "outputs": [],
   "source": [
    "MHW_prnctl_mask = find_mhws_info_data['data_used4MHWs'][:,:,0][:,0]>find_mhws_info_data['data_percentile3d'][:,:,0][:,0]\n",
    "\n"
   ]
  },
  {
   "cell_type": "code",
   "execution_count": 75,
   "id": "6bb09307",
   "metadata": {},
   "outputs": [
    {
     "data": {
      "text/plain": [
       "<BarContainer object of 975 artists>"
      ]
     },
     "execution_count": 75,
     "metadata": {},
     "output_type": "execute_result"
    },
    {
     "data": {
      "image/png": "[encoded data removed]",
      "text/plain": [
       "<Figure size 1440x432 with 1 Axes>"
      ]
     },
     "metadata": {
      "needs_background": "light"
     },
     "output_type": "display_data"
    }
   ],
   "source": [
    "plt.figure(figsize=(20,6))\n",
    "plt.bar(dates, find_mhws_info_data['data_used4MHWs'][:,:,0][:,0], color='grey')\n",
    "plt.bar(dates[MHW_prnctl_mask], find_mhws_info_data['data_used4MHWs'][:,:,0][:,0][MHW_prnctl_mask], color='red')\n"
   ]
  },
  {
   "cell_type": "code",
   "execution_count": null,
   "id": "daeb10df",
   "metadata": {},
   "outputs": [],
   "source": []
  },
  {
   "cell_type": "code",
   "execution_count": null,
   "id": "bf45fd63",
   "metadata": {},
   "outputs": [],
   "source": []
  },
  {
   "cell_type": "code",
   "execution_count": null,
   "id": "7d198154",
   "metadata": {},
   "outputs": [],
   "source": []
  },
  {
   "cell_type": "code",
   "execution_count": null,
   "id": "efb6ba96",
   "metadata": {},
   "outputs": [],
   "source": []
  },
  {
   "cell_type": "code",
   "execution_count": null,
   "id": "0adea587",
   "metadata": {},
   "outputs": [],
   "source": []
  }
 ],
 "metadata": {
  "kernelspec": {
   "display_name": "Python 3",
   "language": "python",
   "name": "python3"
  },
  "language_info": {
   "codemirror_mode": {
    "name": "ipython",
    "version": 3
   },
   "file_extension": ".py",
   "mimetype": "text/x-python",
   "name": "python",
   "nbconvert_exporter": "python",
   "pygments_lexer": "ipython3",
   "version": "3.8.8"
  }
 },
 "nbformat": 4,
 "nbformat_minor": 5
}
