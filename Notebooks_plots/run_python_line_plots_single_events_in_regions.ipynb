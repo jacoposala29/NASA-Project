{
 "cells": [
  {
   "cell_type": "code",
   "execution_count": 1,
   "id": "ff238824",
   "metadata": {},
   "outputs": [],
   "source": [
    "from datetime import datetime, timedelta\n",
    "import h5py\n",
    "import numpy as np\n",
    "import warnings\n",
    "import numpy as np\n",
    "import matplotlib.pyplot as plt\n",
    "warnings.filterwarnings('ignore')"
   ]
  },
  {
   "cell_type": "code",
   "execution_count": 120,
   "id": "333f2a12",
   "metadata": {},
   "outputs": [],
   "source": [
    "dt=30 # 30\n",
    "region = 'TASMAN' # NEP SWP TASMAN\n",
    "path2save = '/Users/jacoposala/Desktop/test_line_plots/'\n",
    "file_path_ecco = f'/Users/jacoposala/Downloads/MHWs_data_ouput_Aug16/ECCO_daily_avg_box_{region}_OHC_1992_2017/ECCOv4r4_heat_daily_box_1992_2017_prcnt90_smooth_noTrend_minLen_5tsteps_maxGap_2tsteps_withAVE.mat'\n"
   ]
  },
  {
   "cell_type": "code",
   "execution_count": 121,
   "id": "8dc2b1d2",
   "metadata": {},
   "outputs": [],
   "source": [
    "# # Load ECCO output from Matlab MHWs code\n",
    "file_path_ecco = f'/Users/jacoposala/Downloads/MHWs_data_ouput_Aug16/ECCO_daily_avg_box_{region}_OHC_1992_2017/ECCOv4r4_heat_daily_box_1992_2017_prcnt90_smooth_noTrend_minLen_5tsteps_maxGap_2tsteps_withAVE.mat'\n",
    "# Load the data selected above\n",
    "mat_data_ecco = h5py.File(file_path_ecco, 'r')\n",
    "\n",
    "# List the keys in the file\n",
    "# print(\"Keys in the file:\", list(mat_data.keys()))\n",
    "\n",
    "# Access the data under the key '#refs#'\n",
    "refs_data_ecco = mat_data_ecco['#refs#']\n",
    "\n",
    "# Access the data under the key 'find_MHWs_info'\n",
    "find_mhws_info_data_ecco = mat_data_ecco['find_MHWs_info']\n",
    "\n",
    "# find_mhws_info_data_ecco.keys()\n"
   ]
  },
  {
   "cell_type": "code",
   "execution_count": 122,
   "id": "27327ddf",
   "metadata": {},
   "outputs": [
    {
     "data": {
      "text/plain": [
       "<KeysViewHDF5 ['G_advection_declineAve', 'G_advection_eventAve', 'G_advection_onsetAve', 'G_diffusion_declineAve', 'G_diffusion_eventAve', 'G_diffusion_onsetAve', 'G_forcing_declineAve', 'G_forcing_eventAve', 'G_forcing_onsetAve', 'G_total_declineAve', 'G_total_eventAve', 'G_total_onsetAve', 'adv_vConv_declineAve', 'adv_vConv_eventAve', 'adv_vConv_onsetAve', 'data_backup', 'data_datenum', 'data_mhw_tstep_msk', 'data_percentile3d', 'data_percentile3d_not_smooth', 'data_seasonal', 'data_used4MHWs', 'data_used4MHWs_declineAve', 'data_used4MHWs_eventAve', 'data_used4MHWs_onsetAve', 'delta_tstep', 'dif_vConv_declineAve', 'dif_vConv_eventAve', 'dif_vConv_onsetAve', 'end_tstep', 'end_tstep_stored_at_peak', 'events_duration_in_tsteps', 'events_number', 'flag_remove_trend', 'onset_duration_in_tsteps', 'peak_tstep', 'peak_tstep_msk', 'peak_value', 'percentile', 'start_tstep', 'start_tstep_msk', 'tstep_part_of_event_msk', 'years']>"
      ]
     },
     "execution_count": 122,
     "metadata": {},
     "output_type": "execute_result"
    }
   ],
   "source": [
    "find_mhws_info_data_ecco.keys()"
   ]
  },
  {
   "cell_type": "code",
   "execution_count": null,
   "id": "ccf09ae9",
   "metadata": {},
   "outputs": [],
   "source": [
    "matlab_datenum = find_mhws_info_data_ecco['data_datenum'].value[0]\n",
    "python_datetime = [datetime.fromordinal(int(x)) + timedelta(days=x%1) - timedelta(days = 366) for x in matlab_datenum]\n",
    "\n"
   ]
  },
  {
   "cell_type": "code",
   "execution_count": null,
   "id": "567b0316",
   "metadata": {},
   "outputs": [],
   "source": [
    "start_tstep_msk = find_mhws_info_data_ecco['start_tstep_msk'].value\n",
    "end_tstep = find_mhws_info_data_ecco['end_tstep'].value\n",
    "peak_tstep = find_mhws_info_data_ecco['peak_tstep'].value\n",
    "\n",
    "start_tstep_sel = np.nonzero(start_tstep_msk)[0]\n",
    "end_tstep_sel = end_tstep[start_tstep_sel].T[0][0].astype(int)\n",
    "peak_tstep_sel = peak_tstep[start_tstep_sel].T[0][0].astype(int)\n",
    "\n"
   ]
  },
  {
   "cell_type": "code",
   "execution_count": null,
   "id": "962b83b9",
   "metadata": {
    "scrolled": true
   },
   "outputs": [],
   "source": [
    "# start_date_event = '2013-12-01'\n",
    "# peak_date_event = '2014-01-15'\n",
    "# end_date_event = '2014-11-15'\n",
    "\n",
    "for idx, istart in enumerate(start_tstep_sel):\n",
    "    start_date_event = datetime.strftime(python_datetime[start_tstep_sel[idx]],'%Y-%m-%d')\n",
    "    peak_date_event = datetime.strftime(python_datetime[peak_tstep_sel[idx]],'%Y-%m-%d')\n",
    "    end_date_event = datetime.strftime(python_datetime[end_tstep_sel[idx]],'%Y-%m-%d')\n",
    "    \n",
    "    for iphase in ['preset', 'onset', 'decline']:\n",
    "        if iphase == 'preset':\n",
    "                start_date = datetime.strptime(start_date_event,'%Y-%m-%d') - timedelta(days=dt)\n",
    "                start_date = datetime.strftime(start_date,'%Y-%m-%d')\n",
    "                end_date = start_date_event\n",
    "        elif iphase == 'onset':\n",
    "                start_date = start_date_event\n",
    "                end_date = peak_date_event\n",
    "        elif iphase == 'decline':\n",
    "                start_date = peak_date_event\n",
    "                end_date = end_date_event\n",
    "        tag2plot = start_date_event + '_' + iphase + '_' + start_date + '_' + end_date        \n",
    "\n",
    "\n",
    "        cmd = 'python ECCOv4r4_create_line_plots_heat_budget_terms_from_OHC_newSep9.py ' + file_path_ecco + \\\n",
    "        ' ' + start_date + ' ' + end_date + \\\n",
    "        ' ' + region + ' ' + tag2plot + ' ' + path2save \n",
    "\n",
    "        !{cmd}\n",
    "        \n",
    "        \n",
    "    "
   ]
  },
  {
   "cell_type": "code",
   "execution_count": null,
   "id": "ff0eccd8",
   "metadata": {},
   "outputs": [],
   "source": []
  },
  {
   "cell_type": "code",
   "execution_count": null,
   "id": "422aaf7a",
   "metadata": {},
   "outputs": [],
   "source": [
    "# start_date_event = '2013-11-23'\n",
    "# peak_date_event = '2014-01-15'\n",
    "# end_date_event = '2014-11-15'\n",
    "\n",
    "# tag2plot = start_date_event + '_preset_' + '2013-11-16' + '_' + start_date_event\n",
    "\n",
    "# cmd = 'python ECCOv4r4_create_line_plots_heat_budget_terms_from_OHC_newSep9.py ' + file_path_ecco + \\\n",
    "#         ' ' + '2013-11-16' + ' ' + start_date_event + \\\n",
    "#         ' ' + region + ' ' + tag2plot + ' ' + path2save \n",
    "\n",
    "# !{cmd}"
   ]
  },
  {
   "cell_type": "markdown",
   "id": "6b21cab0",
   "metadata": {},
   "source": [
    "### Plot to visualize the contribution of each term"
   ]
  },
  {
   "cell_type": "code",
   "execution_count": 123,
   "id": "c1b2b41e",
   "metadata": {},
   "outputs": [
    {
     "data": {
      "text/plain": [
       "<KeysViewHDF5 ['G_advection_declineAve', 'G_advection_eventAve', 'G_advection_onsetAve', 'G_diffusion_declineAve', 'G_diffusion_eventAve', 'G_diffusion_onsetAve', 'G_forcing_declineAve', 'G_forcing_eventAve', 'G_forcing_onsetAve', 'G_total_declineAve', 'G_total_eventAve', 'G_total_onsetAve', 'adv_vConv_declineAve', 'adv_vConv_eventAve', 'adv_vConv_onsetAve', 'data_backup', 'data_datenum', 'data_mhw_tstep_msk', 'data_percentile3d', 'data_percentile3d_not_smooth', 'data_seasonal', 'data_used4MHWs', 'data_used4MHWs_declineAve', 'data_used4MHWs_eventAve', 'data_used4MHWs_onsetAve', 'delta_tstep', 'dif_vConv_declineAve', 'dif_vConv_eventAve', 'dif_vConv_onsetAve', 'end_tstep', 'end_tstep_stored_at_peak', 'events_duration_in_tsteps', 'events_number', 'flag_remove_trend', 'onset_duration_in_tsteps', 'peak_tstep', 'peak_tstep_msk', 'peak_value', 'percentile', 'start_tstep', 'start_tstep_msk', 'tstep_part_of_event_msk', 'years']>"
      ]
     },
     "execution_count": 123,
     "metadata": {},
     "output_type": "execute_result"
    }
   ],
   "source": [
    "find_mhws_info_data_ecco.keys()"
   ]
  },
  {
   "cell_type": "code",
   "execution_count": 124,
   "id": "85e2a446",
   "metadata": {},
   "outputs": [],
   "source": [
    "factor = .9"
   ]
  },
  {
   "cell_type": "code",
   "execution_count": 125,
   "id": "79ef27b9",
   "metadata": {},
   "outputs": [],
   "source": [
    "G_advection_onsetAve = find_mhws_info_data_ecco['G_advection_onsetAve'].value\n",
    "G_diffusion_onsetAve = find_mhws_info_data_ecco['G_diffusion_onsetAve'].value\n",
    "G_forcing_onsetAve = find_mhws_info_data_ecco['G_forcing_onsetAve'].value\n",
    "\n",
    "G_advection_declineAve = find_mhws_info_data_ecco['G_advection_declineAve'].value\n",
    "G_diffusion_declineAve = find_mhws_info_data_ecco['G_diffusion_declineAve'].value\n",
    "G_forcing_declineAve = find_mhws_info_data_ecco['G_forcing_declineAve'].value\n"
   ]
  },
  {
   "cell_type": "code",
   "execution_count": 126,
   "id": "b041bb96",
   "metadata": {},
   "outputs": [],
   "source": [
    "start_tstep_msk = find_mhws_info_data_ecco['start_tstep_msk'].value\n",
    "peak_tstep_msk = find_mhws_info_data_ecco['peak_tstep_msk'].value\n",
    "peak_tstep = find_mhws_info_data_ecco['peak_tstep'].value\n",
    "peak_tstep_msk = find_mhws_info_data_ecco['peak_tstep_msk'].value\n",
    "# for decline phase\n",
    "peak_tstep_msk_shifted = peak_tstep_msk\n",
    "peak_tstep_msk_shifted[1:,0,0] = peak_tstep_msk[0:-1,0,0]\n",
    "peak_tstep_msk_shifted[0] = 0"
   ]
  },
  {
   "cell_type": "code",
   "execution_count": 127,
   "id": "46834a87",
   "metadata": {},
   "outputs": [],
   "source": [
    "G_advection_onsetAve_events = G_advection_onsetAve[start_tstep_msk==1]\n",
    "G_diffusion_onsetAve_events = G_diffusion_onsetAve[start_tstep_msk==1]\n",
    "G_forcing_onsetAve_events = G_forcing_onsetAve[start_tstep_msk==1]\n",
    "\n",
    "G_advection_declineAve_events = G_advection_declineAve[peak_tstep_msk_shifted==1]\n",
    "G_diffusion_declineAve_events = G_diffusion_declineAve[peak_tstep_msk_shifted==1]\n",
    "G_forcing_declineAve_events = G_forcing_declineAve[peak_tstep_msk_shifted==1]"
   ]
  },
  {
   "cell_type": "code",
   "execution_count": 170,
   "id": "2a72c47c",
   "metadata": {},
   "outputs": [],
   "source": [
    "def summary_onset(array1, array2, array3, label1, label2, label3, factor):\n",
    "    print('--------------------')\n",
    "    \n",
    "    print(label1 + ' and ' + label2 + ' positive, sorted: ' + label1 + ', ' + label2 + ', ' + label3 + ': ' +\\\n",
    "    str(np.sum(np.logical_and(np.logical_and(array1>0, array1>array2), np.logical_and(array2>0, array2>array3)))/len(array1)*100) + '%')\n",
    "    \n",
    "    print(label2 + '/' + label1 + '>' + str(factor) + ': ' + \\\n",
    "          str(np.sum(np.logical_and(np.logical_and(np.logical_and(array1>0, array1>array2), \\\n",
    "                                                   np.logical_and(array2>0, array2>array3)), \\\n",
    "                                                   array2/array1>factor))/len(array1)*100) + '%')\n",
    "        \n",
    "    print(label1 + ' and ' + label3 + ' positive, sorted: ' + label1 + ', ' + label3 + ', ' + label2 + ': ' +\\\n",
    "    str(np.sum(np.logical_and(np.logical_and(array1>0, array1>array3), np.logical_and(array3>0, array3>array2)))/len(array1)*100) + '%')\n",
    "\n",
    "    print(label3 + '/' + label1 + '>' + str(factor) + ': ' + \\\n",
    "        str(np.sum(np.logical_and(np.logical_and(np.logical_and(array1>0, array1>array3), \\\n",
    "                                                 np.logical_and(array3>0, array3>array2)), \\\n",
    "                                                 array3/array1>factor))/len(array1)*100) + '%')\n",
    "        \n",
    "    print(label1 + ' is negative: ' + str(np.sum(array1<0)/len(array1)*100) + '%')\n",
    "    \n",
    "    \n",
    "        \n",
    "def summary_decline(array1, array2, array3, label1, label2, label3, factor):\n",
    "    print('--------------------')\n",
    "    \n",
    "    print(label1 + ' and ' + label2 + ' negative, sorted: ' + label1 + ', ' + label2 + ', ' + label3 + ': ' +\\\n",
    "    str(np.sum(np.logical_and(np.logical_and(array1<0, array1<array2), np.logical_and(array2<0, array2<array3)))/len(array1)*100) + '%')\n",
    "    \n",
    "    print(label2 + '/' + label1 + '>' + str(factor) + ': ' + \\\n",
    "          str(np.sum(np.logical_and(np.logical_and(np.logical_and(array1<0, array1<array2), \\\n",
    "                                                   np.logical_and(array2<0, array2<array3)), \\\n",
    "                                                   array2/array1>factor))/len(array1)*100) + '%')\n",
    "        \n",
    "    print(label1 + ' and ' + label3 + ' negative, sorted: ' + label1 + ', ' + label3 + ', ' + label2 + ': ' +\\\n",
    "    str(np.sum(np.logical_and(np.logical_and(array1<0, array1<array3), np.logical_and(array3<0, array3<array2)))/len(array1)*100) + '%')\n",
    "\n",
    "    print(label3 + '/' + label1 + '>' + str(factor) + ': ' + \\\n",
    "        str(np.sum(np.logical_and(np.logical_and(np.logical_and(array1<0, array1<array3), \\\n",
    "                                                 np.logical_and(array3<0, array3<array2)), \\\n",
    "                                                 array3/array1>factor))/len(array1)*100) + '%')\n",
    "    \n",
    "    \n",
    "    \n",
    "    print(label1 + ' is positive: ' + str(np.sum(array1>0)/len(array1)*100) + '%')\n",
    "    \n",
    "        \n",
    "        \n",
    "        \n",
    "        "
   ]
  },
  {
   "cell_type": "code",
   "execution_count": null,
   "id": "0962c927",
   "metadata": {},
   "outputs": [],
   "source": []
  },
  {
   "cell_type": "code",
   "execution_count": 171,
   "id": "540b5da0",
   "metadata": {},
   "outputs": [],
   "source": [
    "def stacked_bar_plot(array1, array2, array3, label1, label2, label3, title, region, factor):\n",
    "    plt.figure(figsize=(15, 6))\n",
    "\n",
    "    # Set the width of the bars\n",
    "    width = 0.2  # the width of the bars\n",
    "\n",
    "    # The x locations for the groups\n",
    "    x = np.arange(len(array1))\n",
    "\n",
    "    # Plotting the bars\n",
    "    plt.bar(x - width, array1, width, label=label1, color='magenta')\n",
    "    plt.bar(x, array2, width, label=label2, color='blue')\n",
    "    plt.bar(x + width, array3, width, label=label3, color='green')\n",
    "\n",
    "    # Adding labels, title, and legend\n",
    "    plt.ylabel('Values')\n",
    "    plt.title(title + ', ' + region)\n",
    "    plt.xticks(x, range(len(array1)))  # Adjust as needed for your x-axis labels\n",
    "    plt.legend()\n",
    "\n",
    "    # Show the plot\n",
    "    plt.show()\n",
    "\n",
    "    print('++++++++++++++')\n",
    "    print('Number of events: ' + str(len(array1)))\n",
    "\n",
    "    # Call summary functions based on title\n",
    "    if title == 'onset':\n",
    "        summary_onset(array1, array2, array3, label1, label2, label3, factor)\n",
    "        summary_onset(array2, array1, array3, label2, label1, label3, factor)\n",
    "        summary_onset(array3, array2, array1, label3, label2, label1, factor)\n",
    "\n",
    "    if title == 'decline':\n",
    "        summary_decline(array1, array2, array3, label1, label2, label3, factor)\n",
    "        summary_decline(array2, array1, array3, label2, label1, label3, factor)\n",
    "        summary_decline(array3, array2, array1, label3, label2, label1, factor)\n",
    "        "
   ]
  },
  {
   "cell_type": "code",
   "execution_count": 172,
   "id": "cfd8bd21",
   "metadata": {
    "scrolled": false
   },
   "outputs": [
    {
     "data": {
      "image/png": "[encoded data removed]",
      "text/plain": [
       "<Figure size 1080x432 with 1 Axes>"
      ]
     },
     "metadata": {
      "needs_background": "light"
     },
     "output_type": "display_data"
    },
    {
     "name": "stdout",
     "output_type": "stream",
     "text": [
      "++++++++++++++\n",
      "Number of events: 38\n",
      "--------------------\n",
      "G_forcing and G_advection positive, sorted: G_forcing, G_advection, G_diffusion: 39.473684210526315%\n",
      "G_advection/G_forcing>0.9: 0.0%\n",
      "G_forcing and G_diffusion positive, sorted: G_forcing, G_diffusion, G_advection: 21.052631578947366%\n",
      "G_diffusion/G_forcing>0.9: 5.263157894736842%\n",
      "G_forcing is negative: 0.0%\n",
      "--------------------\n",
      "G_advection and G_forcing positive, sorted: G_advection, G_forcing, G_diffusion: 21.052631578947366%\n",
      "G_forcing/G_advection>0.9: 2.631578947368421%\n",
      "G_advection and G_diffusion positive, sorted: G_advection, G_diffusion, G_forcing: 5.263157894736842%\n",
      "G_diffusion/G_advection>0.9: 0.0%\n",
      "G_advection is negative: 13.157894736842104%\n",
      "--------------------\n",
      "G_diffusion and G_advection positive, sorted: G_diffusion, G_advection, G_forcing: 0.0%\n",
      "G_advection/G_diffusion>0.9: 0.0%\n",
      "G_diffusion and G_forcing positive, sorted: G_diffusion, G_forcing, G_advection: 10.526315789473683%\n",
      "G_forcing/G_diffusion>0.9: 7.894736842105263%\n",
      "G_diffusion is negative: 44.73684210526316%\n"
     ]
    }
   ],
   "source": [
    "stacked_bar_plot(G_forcing_onsetAve_events, G_advection_onsetAve_events, G_diffusion_onsetAve_events, \\\n",
    "                 'G_forcing', 'G_advection', 'G_diffusion', 'onset', region, factor)\n",
    "\n",
    "\n"
   ]
  },
  {
   "cell_type": "code",
   "execution_count": 173,
   "id": "7267bf10",
   "metadata": {},
   "outputs": [
    {
     "data": {
      "image/png": "[encoded data removed]",
      "text/plain": [
       "<Figure size 1080x432 with 1 Axes>"
      ]
     },
     "metadata": {
      "needs_background": "light"
     },
     "output_type": "display_data"
    },
    {
     "name": "stdout",
     "output_type": "stream",
     "text": [
      "++++++++++++++\n",
      "Number of events: 38\n",
      "--------------------\n",
      "G_forcing and G_advection negative, sorted: G_forcing, G_advection, G_diffusion: 23.684210526315788%\n",
      "G_advection/G_forcing>0.9: 0.0%\n",
      "G_forcing and G_diffusion negative, sorted: G_forcing, G_diffusion, G_advection: 36.84210526315789%\n",
      "G_diffusion/G_forcing>0.9: 10.526315789473683%\n",
      "G_forcing is positive: 0.0%\n",
      "--------------------\n",
      "G_advection and G_forcing negative, sorted: G_advection, G_forcing, G_diffusion: 7.894736842105263%\n",
      "G_forcing/G_advection>0.9: 0.0%\n",
      "G_advection and G_diffusion negative, sorted: G_advection, G_diffusion, G_forcing: 0.0%\n",
      "G_diffusion/G_advection>0.9: 0.0%\n",
      "G_advection is positive: 26.31578947368421%\n",
      "--------------------\n",
      "G_diffusion and G_advection negative, sorted: G_diffusion, G_advection, G_forcing: 10.526315789473683%\n",
      "G_advection/G_diffusion>0.9: 0.0%\n",
      "G_diffusion and G_forcing negative, sorted: G_diffusion, G_forcing, G_advection: 21.052631578947366%\n",
      "G_forcing/G_diffusion>0.9: 7.894736842105263%\n",
      "G_diffusion is positive: 15.789473684210526%\n"
     ]
    }
   ],
   "source": [
    "stacked_bar_plot(G_forcing_declineAve_events, G_advection_declineAve_events, G_diffusion_declineAve_events, \\\n",
    "                 'G_forcing', 'G_advection', 'G_diffusion', 'decline', region, factor)"
   ]
  },
  {
   "cell_type": "code",
   "execution_count": null,
   "id": "dfeae2a7",
   "metadata": {},
   "outputs": [],
   "source": []
  },
  {
   "cell_type": "code",
   "execution_count": null,
   "id": "b1d770bb",
   "metadata": {},
   "outputs": [],
   "source": []
  }
 ],
 "metadata": {
  "kernelspec": {
   "display_name": "Python 3",
   "language": "python",
   "name": "python3"
  },
  "language_info": {
   "codemirror_mode": {
    "name": "ipython",
    "version": 3
   },
   "file_extension": ".py",
   "mimetype": "text/x-python",
   "name": "python",
   "nbconvert_exporter": "python",
   "pygments_lexer": "ipython3",
   "version": "3.8.8"
  }
 },
 "nbformat": 4,
 "nbformat_minor": 5
}
